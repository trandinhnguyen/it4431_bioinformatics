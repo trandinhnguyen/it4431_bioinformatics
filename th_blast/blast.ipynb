{
 "cells": [
  {
   "cell_type": "code",
   "execution_count": 1,
   "metadata": {},
   "outputs": [
    {
     "name": "stdout",
     "output_type": "stream",
     "text": [
      "Help on function qblast in module Bio.Blast.NCBIWWW:\n",
      "\n",
      "qblast(program, database, sequence, url_base='https://blast.ncbi.nlm.nih.gov/Blast.cgi', auto_format=None, composition_based_statistics=None, db_genetic_code=None, endpoints=None, entrez_query='(none)', expect=10.0, filter=None, gapcosts=None, genetic_code=None, hitlist_size=50, i_thresh=None, layout=None, lcase_mask=None, matrix_name=None, nucl_penalty=None, nucl_reward=None, other_advanced=None, perc_ident=None, phi_pattern=None, query_file=None, query_believe_defline=None, query_from=None, query_to=None, searchsp_eff=None, service=None, threshold=None, ungapped_alignment=None, word_size=None, short_query=None, alignments=500, alignment_view=None, descriptions=500, entrez_links_new_window=None, expect_low=None, expect_high=None, format_entrez_query=None, format_object=None, format_type='XML', ncbi_gi=None, results_file=None, show_overview=None, megablast=None, template_type=None, template_length=None, username='blast', password=None)\n",
      "    BLAST search using NCBI's QBLAST server or a cloud service provider.\n",
      "    \n",
      "    Supports all parameters of the old qblast API for Put and Get.\n",
      "    \n",
      "    Please note that NCBI uses the new Common URL API for BLAST searches\n",
      "    on the internet (http://ncbi.github.io/blast-cloud/dev/api.html). Thus,\n",
      "    some of the parameters used by this function are not (or are no longer)\n",
      "    officially supported by NCBI. Although they are still functioning, this\n",
      "    may change in the future.\n",
      "    \n",
      "    The Common URL API (http://ncbi.github.io/blast-cloud/dev/api.html) allows\n",
      "    doing BLAST searches on cloud servers. To use this feature, please set\n",
      "    ``url_base='http://host.my.cloud.service.provider.com/cgi-bin/blast.cgi'``\n",
      "    and ``format_object='Alignment'``. For more details, please see\n",
      "    https://blast.ncbi.nlm.nih.gov/Blast.cgi?PAGE_TYPE=BlastDocs&DOC_TYPE=CloudBlast\n",
      "    \n",
      "    Some useful parameters:\n",
      "    \n",
      "     - program        blastn, blastp, blastx, tblastn, or tblastx (lower case)\n",
      "     - database       Which database to search against (e.g. \"nr\").\n",
      "     - sequence       The sequence to search.\n",
      "     - ncbi_gi        TRUE/FALSE whether to give 'gi' identifier.\n",
      "     - descriptions   Number of descriptions to show.  Def 500.\n",
      "     - alignments     Number of alignments to show.  Def 500.\n",
      "     - expect         An expect value cutoff.  Def 10.0.\n",
      "     - matrix_name    Specify an alt. matrix (PAM30, PAM70, BLOSUM80, BLOSUM45).\n",
      "     - filter         \"none\" turns off filtering.  Default no filtering\n",
      "     - format_type    \"HTML\", \"Text\", \"ASN.1\", or \"XML\".  Def. \"XML\".\n",
      "     - entrez_query   Entrez query to limit Blast search\n",
      "     - hitlist_size   Number of hits to return. Default 50\n",
      "     - megablast      TRUE/FALSE whether to use MEga BLAST algorithm (blastn only)\n",
      "     - short_query    TRUE/FALSE whether to adjust the search parameters for a\n",
      "                      short query sequence. Note that this will override\n",
      "                      manually set parameters like word size and e value. Turns\n",
      "                      off when sequence length is > 30 residues. Default: None.\n",
      "     - service        plain, psi, phi, rpsblast, megablast (lower case)\n",
      "    \n",
      "    This function does no checking of the validity of the parameters\n",
      "    and passes the values to the server as is.  More help is available at:\n",
      "    https://ncbi.github.io/blast-cloud/dev/api.html\n",
      "\n"
     ]
    }
   ],
   "source": [
    "from Bio.Blast import NCBIWWW\n",
    "from Bio import SeqIO\n",
    "from Bio.Blast import NCBIXML\n",
    "\n",
    "help(NCBIWWW.qblast)"
   ]
  },
  {
   "cell_type": "code",
   "execution_count": 2,
   "metadata": {},
   "outputs": [
    {
     "ename": "ValueError",
     "evalue": "Error message from NCBI: Message ID#69 Error: Error occurred while trying to set up a Blast Object from CGI context: CFastaReader: Near line 1, there's a line that doesn't look like plausible data, but it's not marked as defline or comment.",
     "output_type": "error",
     "traceback": [
      "\u001b[0;31m---------------------------------------------------------------------------\u001b[0m",
      "\u001b[0;31mValueError\u001b[0m                                Traceback (most recent call last)",
      "\u001b[1;32m/home/nguyen/bioinformatics/it4431_bioinformatics/th_blast/blast.ipynb Cell 2\u001b[0m line \u001b[0;36m2\n\u001b[1;32m      <a href='vscode-notebook-cell://wsl%2Bubuntu/home/nguyen/bioinformatics/it4431_bioinformatics/th_blast/blast.ipynb#W1sdnNjb2RlLXJlbW90ZQ%3D%3D?line=0'>1</a>\u001b[0m sequence \u001b[39m=\u001b[39m SeqIO\u001b[39m.\u001b[39mread(\u001b[39m\"\u001b[39m\u001b[39m../virus_datasets/covid.faa\u001b[39m\u001b[39m\"\u001b[39m, \u001b[39m\"\u001b[39m\u001b[39mfasta\u001b[39m\u001b[39m\"\u001b[39m)\n\u001b[0;32m----> <a href='vscode-notebook-cell://wsl%2Bubuntu/home/nguyen/bioinformatics/it4431_bioinformatics/th_blast/blast.ipynb#W1sdnNjb2RlLXJlbW90ZQ%3D%3D?line=1'>2</a>\u001b[0m result_handle \u001b[39m=\u001b[39m NCBIWWW\u001b[39m.\u001b[39;49mqblast(\u001b[39m\"\u001b[39;49m\u001b[39mblastn\u001b[39;49m\u001b[39m\"\u001b[39;49m, \u001b[39m\"\u001b[39;49m\u001b[39mnt\u001b[39;49m\u001b[39m\"\u001b[39;49m, sequence)\n\u001b[1;32m      <a href='vscode-notebook-cell://wsl%2Bubuntu/home/nguyen/bioinformatics/it4431_bioinformatics/th_blast/blast.ipynb#W1sdnNjb2RlLXJlbW90ZQ%3D%3D?line=2'>3</a>\u001b[0m result_handle \u001b[39m=\u001b[39m NCBIWWW\u001b[39m.\u001b[39mqblast(\u001b[39m\"\u001b[39m\u001b[39mblastp\u001b[39m\u001b[39m\"\u001b[39m, \u001b[39m\"\u001b[39m\u001b[39mnr\u001b[39m\u001b[39m\"\u001b[39m, sequence)\n",
      "File \u001b[0;32m~/.local/lib/python3.10/site-packages/Bio/Blast/NCBIWWW.py:230\u001b[0m, in \u001b[0;36mqblast\u001b[0;34m(program, database, sequence, url_base, auto_format, composition_based_statistics, db_genetic_code, endpoints, entrez_query, expect, filter, gapcosts, genetic_code, hitlist_size, i_thresh, layout, lcase_mask, matrix_name, nucl_penalty, nucl_reward, other_advanced, perc_ident, phi_pattern, query_file, query_believe_defline, query_from, query_to, searchsp_eff, service, threshold, ungapped_alignment, word_size, short_query, alignments, alignment_view, descriptions, entrez_links_new_window, expect_low, expect_high, format_entrez_query, format_object, format_type, ncbi_gi, results_file, show_overview, megablast, template_type, template_length, username, password)\u001b[0m\n\u001b[1;32m    226\u001b[0m handle \u001b[39m=\u001b[39m urlopen(request)\n\u001b[1;32m    228\u001b[0m \u001b[39m# Format the \"Get\" command, which gets the formatted results from qblast\u001b[39;00m\n\u001b[1;32m    229\u001b[0m \u001b[39m# Parameters taken from http://www.ncbi.nlm.nih.gov/BLAST/Doc/node6.html on 9 July 2007\u001b[39;00m\n\u001b[0;32m--> 230\u001b[0m rid, rtoe \u001b[39m=\u001b[39m _parse_qblast_ref_page(handle)\n\u001b[1;32m    231\u001b[0m parameters \u001b[39m=\u001b[39m {\n\u001b[1;32m    232\u001b[0m     \u001b[39m\"\u001b[39m\u001b[39mALIGNMENTS\u001b[39m\u001b[39m\"\u001b[39m: alignments,\n\u001b[1;32m    233\u001b[0m     \u001b[39m\"\u001b[39m\u001b[39mALIGNMENT_VIEW\u001b[39m\u001b[39m\"\u001b[39m: alignment_view,\n\u001b[0;32m   (...)\u001b[0m\n\u001b[1;32m    246\u001b[0m     \u001b[39m\"\u001b[39m\u001b[39mCMD\u001b[39m\u001b[39m\"\u001b[39m: \u001b[39m\"\u001b[39m\u001b[39mGet\u001b[39m\u001b[39m\"\u001b[39m,\n\u001b[1;32m    247\u001b[0m }\n\u001b[1;32m    248\u001b[0m parameters \u001b[39m=\u001b[39m {key: value \u001b[39mfor\u001b[39;00m key, value \u001b[39min\u001b[39;00m parameters\u001b[39m.\u001b[39mitems() \u001b[39mif\u001b[39;00m value \u001b[39mis\u001b[39;00m \u001b[39mnot\u001b[39;00m \u001b[39mNone\u001b[39;00m}\n",
      "File \u001b[0;32m~/.local/lib/python3.10/site-packages/Bio/Blast/NCBIWWW.py:340\u001b[0m, in \u001b[0;36m_parse_qblast_ref_page\u001b[0;34m(handle)\u001b[0m\n\u001b[1;32m    338\u001b[0m     msg \u001b[39m=\u001b[39m msg\u001b[39m.\u001b[39msplit(\u001b[39m\"\u001b[39m\u001b[39m</p>\u001b[39m\u001b[39m\"\u001b[39m, \u001b[39m1\u001b[39m)[\u001b[39m0\u001b[39m]\u001b[39m.\u001b[39msplit(\u001b[39m\"\u001b[39m\u001b[39m\\n\u001b[39;00m\u001b[39m\"\u001b[39m, \u001b[39m1\u001b[39m)[\u001b[39m0\u001b[39m]\u001b[39m.\u001b[39mstrip()\n\u001b[1;32m    339\u001b[0m     \u001b[39mif\u001b[39;00m msg:\n\u001b[0;32m--> 340\u001b[0m         \u001b[39mraise\u001b[39;00m \u001b[39mValueError\u001b[39;00m(\u001b[39mf\u001b[39m\u001b[39m\"\u001b[39m\u001b[39mError message from NCBI: \u001b[39m\u001b[39m{\u001b[39;00mmsg\u001b[39m}\u001b[39;00m\u001b[39m\"\u001b[39m)\n\u001b[1;32m    341\u001b[0m \u001b[39m# Generic search based on the way the error messages start:\u001b[39;00m\n\u001b[1;32m    342\u001b[0m i \u001b[39m=\u001b[39m s\u001b[39m.\u001b[39mfind(\u001b[39m\"\u001b[39m\u001b[39mMessage ID#\u001b[39m\u001b[39m\"\u001b[39m)\n",
      "\u001b[0;31mValueError\u001b[0m: Error message from NCBI: Message ID#69 Error: Error occurred while trying to set up a Blast Object from CGI context: CFastaReader: Near line 1, there's a line that doesn't look like plausible data, but it's not marked as defline or comment."
     ]
    }
   ],
   "source": [
    "sequence = SeqIO.read(\"../virus_datasets/covid.faa\", \"fasta\")\n",
    "result_handle = NCBIWWW.qblast(\"blastn\", \"nt\", sequence)\n",
    "result_handle = NCBIWWW.qblast(\"blastp\", \"nr\", sequence)"
   ]
  }
 ],
 "metadata": {
  "kernelspec": {
   "display_name": "Python 3",
   "language": "python",
   "name": "python3"
  },
  "language_info": {
   "codemirror_mode": {
    "name": "ipython",
    "version": 3
   },
   "file_extension": ".py",
   "mimetype": "text/x-python",
   "name": "python",
   "nbconvert_exporter": "python",
   "pygments_lexer": "ipython3",
   "version": "3.10.12"
  }
 },
 "nbformat": 4,
 "nbformat_minor": 2
}
