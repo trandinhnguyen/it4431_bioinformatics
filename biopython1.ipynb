{
 "cells": [
  {
   "cell_type": "code",
   "execution_count": 1,
   "metadata": {},
   "outputs": [
    {
     "name": "stdout",
     "output_type": "stream",
     "text": [
      "biopython version:  1.81\n",
      "AGTACACTGGT\n",
      "TCATGTGACCA\n",
      "Reverse complement:  ACCAGTGTACT\n"
     ]
    }
   ],
   "source": [
    "import Bio\n",
    "from Bio.Seq import Seq\n",
    "from Bio import SeqIO\n",
    "from Bio.SeqUtils import GC, gc_fraction\n",
    "\n",
    "print(\"biopython version: \", Bio.__version__)\n",
    "my_seq = Seq(\"AGTACACTGGT\")\n",
    "print(my_seq)\n",
    "print(my_seq.complement())\n",
    "print(\"Reverse complement: \", my_seq.reverse_complement())"
   ]
  },
  {
   "cell_type": "code",
   "execution_count": 2,
   "metadata": {},
   "outputs": [
    {
     "name": "stdout",
     "output_type": "stream",
     "text": [
      "Id của chuỗi:  gi|2765658|emb|Z78533.1|CIZ78533\n",
      "Seq('CGTAACAAGGTTTCCGTAGGTGAACCTGCGGAAGGATCATTGATGAGACCGTGG...CGC')\n",
      "CGTAACAAGGTTTCCGTAGGTGAACCTGCGGAAGGATCATTGATGAGACCGTGGAATAAACGATCGAGTGAATCCGGAGGACCGGTGTACTCAGCTCACCGGGGGCATTGCTCCCGTGGTGACCCTGATTTGTTGTTGGGCCGCCTCGGGAGCGTCCATGGCGGGTTTGAACCTCTAGCCCGGCGCAGTTTGGGCGCCAAGCCATATGAAAGCATCACCGGCGAATGGCATTGTCTTCCCCAAAACCCGGAGCGGCGGCGTGCTGTCGCGTGCCCAATGAATTTTGATGACTCTCGCAAACGGGAATCTTGGCTCTTTGCATCGGATGGAAGGACGCAGCGAAATGCGATAAGTGGTGTGAATTGCAAGATCCCGTGAACCATCGAGTCTTTTGAACGCAAGTTGCGCCCGAGGCCATCAGGCTAAGGGCACGCCTGCTTGGGCGTCGCGCTTCGTCTCTCTCCTGCCAATGCTTGCCCGGCATACAGCCAGGCCGGCGTGGTGCGGATGTGAAAGATTGGCCCCTTGTGCCTAGGTGCGGCGGGTCCAAGAGCTGGTGTTTTGATGGCCCGGAACCCGGCAAGAGGTGGACGGATGCTGGCAGCAGCTGCCGTGCGAATCCCCCATGTTGTCGTGCTTGTCGGACAGGCAGGAGAACCCTTCCGAACCCCAATGGAGGGCGGTTGACCGCCATTCGGATGTGACCCCAGGTCAGGCGGGGGCACCCGCTGAGTTTACGC  =>  740 nucleotides\n",
      "\n",
      " ID: gi|2765658|emb|Z78533.1|CIZ78533\n",
      "Name: gi|2765658|emb|Z78533.1|CIZ78533\n",
      "Description: gi|2765658|emb|Z78533.1|CIZ78533 C.irapeanum 5.8S rRNA gene and ITS1 and ITS2 DNA\n",
      "Number of features: 0\n",
      "Seq('CGTAACAAGGTTTCCGTAGGTGAACCTGCGGAAGGATCATTGATGAGACCGTGG...CGC')\n"
     ]
    }
   ],
   "source": [
    "# FASTA parsing example\n",
    "for seq_record in SeqIO.parse(\"ls_orchid.fasta\", \"fasta\"):\n",
    "    print(\"Id của chuỗi: \", seq_record.id)\n",
    "    print(repr(seq_record.seq))\n",
    "    print(seq_record.seq, \" => \", len(seq_record.seq), \"nucleotides\")\n",
    "\n",
    "    print(\"\\n\", seq_record)\n",
    "    break"
   ]
  },
  {
   "cell_type": "code",
   "execution_count": 3,
   "metadata": {},
   "outputs": [
    {
     "name": "stdout",
     "output_type": "stream",
     "text": [
      "Z78533.1\n",
      "Seq('CGTAACAAGGTTTCCGTAGGTGAACCTGCGGAAGGATCATTGATGAGACCGTGG...CGC')\n",
      "CGTAACAAGGTTTCCGTAGGTGAACCTGCGGAAGGATCATTGATGAGACCGTGGAATAAACGATCGAGTGAATCCGGAGGACCGGTGTACTCAGCTCACCGGGGGCATTGCTCCCGTGGTGACCCTGATTTGTTGTTGGGCCGCCTCGGGAGCGTCCATGGCGGGTTTGAACCTCTAGCCCGGCGCAGTTTGGGCGCCAAGCCATATGAAAGCATCACCGGCGAATGGCATTGTCTTCCCCAAAACCCGGAGCGGCGGCGTGCTGTCGCGTGCCCAATGAATTTTGATGACTCTCGCAAACGGGAATCTTGGCTCTTTGCATCGGATGGAAGGACGCAGCGAAATGCGATAAGTGGTGTGAATTGCAAGATCCCGTGAACCATCGAGTCTTTTGAACGCAAGTTGCGCCCGAGGCCATCAGGCTAAGGGCACGCCTGCTTGGGCGTCGCGCTTCGTCTCTCTCCTGCCAATGCTTGCCCGGCATACAGCCAGGCCGGCGTGGTGCGGATGTGAAAGATTGGCCCCTTGTGCCTAGGTGCGGCGGGTCCAAGAGCTGGTGTTTTGATGGCCCGGAACCCGGCAAGAGGTGGACGGATGCTGGCAGCAGCTGCCGTGCGAATCCCCCATGTTGTCGTGCTTGTCGGACAGGCAGGAGAACCCTTCCGAACCCCAATGGAGGGCGGTTGACCGCCATTCGGATGTGACCCCAGGTCAGGCGGGGGCACCCGCTGAGTTTACGC  =>  740\n",
      "\n",
      "### Thông tin bản ghi theo định dạng GENBANK\n",
      "ID: Z78533.1\n",
      "Name: Z78533\n",
      "Description: C.irapeanum 5.8S rRNA gene and ITS1 and ITS2 DNA\n",
      "Number of features: 5\n",
      "/molecule_type=DNA\n",
      "/topology=linear\n",
      "/data_file_division=PLN\n",
      "/date=30-NOV-2006\n",
      "/accessions=['Z78533']\n",
      "/sequence_version=1\n",
      "/gi=2765658\n",
      "/keywords=['5.8S ribosomal RNA', '5.8S rRNA gene', 'internal transcribed spacer', 'ITS1', 'ITS2']\n",
      "/source=Cypripedium irapeanum\n",
      "/organism=Cypripedium irapeanum\n",
      "/taxonomy=['Eukaryota', 'Viridiplantae', 'Streptophyta', 'Embryophyta', 'Tracheophyta', 'Spermatophyta', 'Magnoliophyta', 'Liliopsida', 'Asparagales', 'Orchidaceae', 'Cypripedioideae', 'Cypripedium']\n",
      "/references=[Reference(title='Phylogenetics of the slipper orchids (Cypripedioideae: Orchidaceae): nuclear rDNA ITS sequences', ...), Reference(title='Direct Submission', ...)]\n",
      "Seq('CGTAACAAGGTTTCCGTAGGTGAACCTGCGGAAGGATCATTGATGAGACCGTGG...CGC')\n"
     ]
    }
   ],
   "source": [
    "# Genbank parsing example\n",
    "for seq_record in SeqIO.parse(\"ls_orchid.gbk\", \"genbank\"):\n",
    "    print(seq_record.id)\n",
    "    print(repr(seq_record.seq))\n",
    "    print(seq_record.seq, \" => \", len(seq_record.seq))\n",
    "\n",
    "    print(\"\\n### Thông tin bản ghi theo định dạng GENBANK\")\n",
    "    print(seq_record)\n",
    "    break"
   ]
  },
  {
   "cell_type": "code",
   "execution_count": 4,
   "metadata": {},
   "outputs": [
    {
     "name": "stdout",
     "output_type": "stream",
     "text": [
      "0 G\n",
      "1 A\n",
      "2 T\n",
      "3 C\n",
      "4 G\n",
      "Len sequence:  5\n",
      "G\n",
      "T\n",
      "G\n"
     ]
    }
   ],
   "source": [
    "# sequences act like strings\n",
    "my_seq = Seq(\"GATCG\")\n",
    "for index, letter in enumerate(my_seq):\n",
    "    print(\"%i %s\" % (index, letter))\n",
    "    # print(index, letter)\n",
    "    # print(my_seq[index])\n",
    "print(\"Len sequence: \", len(my_seq))\n",
    "print(my_seq[0])\n",
    "print(my_seq[2])\n",
    "print(my_seq[-1])"
   ]
  },
  {
   "cell_type": "code",
   "execution_count": 7,
   "metadata": {},
   "outputs": [
    {
     "name": "stdout",
     "output_type": "stream",
     "text": [
      "2\n",
      "Len my_seq:  32\n",
      "Tổng số G:  9\n",
      "Tổng số C:  6\n",
      "Tỷ lệ GC:  46.875\n",
      "Tỷ lệ GC:  0.46875\n"
     ]
    }
   ],
   "source": [
    "# non-overlapping count\n",
    "from Bio.SeqUtils import gc_fraction\n",
    "\n",
    "print(\"AAAA\".count(\"AA\"))\n",
    "my_seq = Seq(\"GATCGATGGGCCTATATAGGATCGAAAATCGC\")\n",
    "print(\"Len my_seq: \", len(my_seq))\n",
    "print(\"Tổng số G: \", my_seq.count(\"G\"))\n",
    "print(\"Tổng số C: \", my_seq.count(\"C\"))\n",
    "gc = 100 * float(my_seq.count(\"G\") + my_seq.count(\"C\")) / len(my_seq)\n",
    "print(\"Tỷ lệ GC: \", gc)\n",
    "my_seq = Seq(\"GATCGATGGGCCTATATAGGATCGAAAATCGC\")\n",
    "print(\"Tỷ lệ GC: \", gc_fraction(my_seq))"
   ]
  },
  {
   "cell_type": "code",
   "execution_count": 9,
   "metadata": {},
   "outputs": [
    {
     "name": "stdout",
     "output_type": "stream",
     "text": [
      "GCTGTAGTAAG\n",
      "AGGCATGCATC\n",
      "TAGCTAAGAC\n",
      "CGCTAAAAGCTAGGATATATCCGGGTAGCTAG\n"
     ]
    }
   ],
   "source": [
    "# slicing a sequence\n",
    "my_seq = Seq(\"GATCGATGGGCCTATATAGGATCGAAAATCGC\")\n",
    "my_seq[4:12]\n",
    "# get the first, second and third codon positions of this DNA sequence:\n",
    "# với 3 ORF (Open Reading Frame)\n",
    "print(my_seq[0::3])\n",
    "print(my_seq[1::3])\n",
    "print(my_seq[2::3])\n",
    "# Reverse the string\n",
    "print(my_seq[::-1])"
   ]
  },
  {
   "cell_type": "code",
   "execution_count": 11,
   "metadata": {},
   "outputs": [
    {
     "name": "stdout",
     "output_type": "stream",
     "text": [
      "GATCGATGGGCCTATATAGGATCGAAAATCGC\n",
      "\n",
      "FASTA:\n",
      " >Name\n",
      "GATCGATGGGCCTATATAGGATCGAAAATCGC\n",
      "\n"
     ]
    }
   ],
   "source": [
    "# turning Seq objects into strings\n",
    "print(str(my_seq))\n",
    "# Convert to FASTA format\n",
    "fasta_format_string = \">Name\\n%s\\n\" % my_seq\n",
    "print(\"\\nFASTA:\\n\", fasta_format_string)"
   ]
  },
  {
   "cell_type": "code",
   "execution_count": 12,
   "metadata": {},
   "outputs": [
    {
     "name": "stdout",
     "output_type": "stream",
     "text": [
      "dna_seq:  ACGTCGTATG\n",
      "concatenated:  ACGTAACCGGTT\n"
     ]
    }
   ],
   "source": [
    "# Concatenating or adding sequences\n",
    "dna_seq_1 = Seq(\"ACGT\")\n",
    "dna_seq_2 = Seq(\"CGTATG\")\n",
    "dna_seq = dna_seq_1 + dna_seq_2\n",
    "print(\"dna_seq: \", dna_seq)\n",
    "list_of_seqs = [Seq(\"ACGT\"), Seq(\"AACC\"), Seq(\"GGTT\")]\n",
    "concatenated = Seq(\"\")\n",
    "for s in list_of_seqs:\n",
    "    concatenated += s\n",
    "print(\"concatenated: \", concatenated)"
   ]
  },
  {
   "cell_type": "code",
   "execution_count": 13,
   "metadata": {},
   "outputs": [
    {
     "name": "stdout",
     "output_type": "stream",
     "text": [
      "new_seq:  ATGNNNNNNNNNNATCCCGNNNNNNNNNNTTGCA\n"
     ]
    }
   ],
   "source": [
    "# join method\n",
    "contigs = [Seq(\"ATG\"), Seq(\"ATCCCG\"), Seq(\"TTGCA\")]\n",
    "spacer = Seq(\"N\" * 10)\n",
    "new_seq = spacer.join(contigs)\n",
    "print(\"new_seq: \", new_seq)"
   ]
  },
  {
   "cell_type": "code",
   "execution_count": 14,
   "metadata": {},
   "outputs": [
    {
     "name": "stdout",
     "output_type": "stream",
     "text": [
      "dna_seq_upper:  ACGTACGT\n",
      "dna_seq_lower:  acgtacgt\n"
     ]
    }
   ],
   "source": [
    "# Changing case\n",
    "dna_seq = Seq(\"acgtACGT\")\n",
    "dna_seq_upper = dna_seq.upper()\n",
    "dna_seq_lower = dna_seq.lower()\n",
    "print(\"dna_seq_upper: \", dna_seq_upper)\n",
    "print(\"dna_seq_lower: \", dna_seq_lower)"
   ]
  },
  {
   "cell_type": "code",
   "execution_count": 15,
   "metadata": {},
   "outputs": [
    {
     "name": "stdout",
     "output_type": "stream",
     "text": [
      "coding_dna:  ATGGCC\n",
      "template_dna:  GGCCAT\n",
      "messenger_rna:  AUGGCC\n",
      "back_transcribe:  ATGGCC\n"
     ]
    }
   ],
   "source": [
    "# Transcription\n",
    "\n",
    "coding_dna = Seq(\"ATGGCC\")\n",
    "print(\"coding_dna: \", coding_dna)\n",
    "template_dna = coding_dna.reverse_complement()\n",
    "print(\"template_dna: \", template_dna)\n",
    "messenger_rna = coding_dna.transcribe()\n",
    "print(\"messenger_rna: \", messenger_rna)\n",
    "\n",
    "# The Seq object also includes a back-transcription method for\n",
    "# going from the mRNA to the coding strand of the DNA.\n",
    "# Again, this is a simple U → T substitution:\n",
    "print(\"back_transcribe: \", messenger_rna.back_transcribe())"
   ]
  },
  {
   "cell_type": "code",
   "execution_count": 17,
   "metadata": {},
   "outputs": [
    {
     "name": "stdout",
     "output_type": "stream",
     "text": [
      "Table 1 Standard, SGC0\n",
      "\n",
      "  |  T      |  C      |  A      |  G      |\n",
      "--+---------+---------+---------+---------+--\n",
      "T | TTT F   | TCT S   | TAT Y   | TGT C   | T\n",
      "T | TTC F   | TCC S   | TAC Y   | TGC C   | C\n",
      "T | TTA L   | TCA S   | TAA Stop| TGA Stop| A\n",
      "T | TTG L(s)| TCG S   | TAG Stop| TGG W   | G\n",
      "--+---------+---------+---------+---------+--\n",
      "C | CTT L   | CCT P   | CAT H   | CGT R   | T\n",
      "C | CTC L   | CCC P   | CAC H   | CGC R   | C\n",
      "C | CTA L   | CCA P   | CAA Q   | CGA R   | A\n",
      "C | CTG L(s)| CCG P   | CAG Q   | CGG R   | G\n",
      "--+---------+---------+---------+---------+--\n",
      "A | ATT I   | ACT T   | AAT N   | AGT S   | T\n",
      "A | ATC I   | ACC T   | AAC N   | AGC S   | C\n",
      "A | ATA I   | ACA T   | AAA K   | AGA R   | A\n",
      "A | ATG M(s)| ACG T   | AAG K   | AGG R   | G\n",
      "--+---------+---------+---------+---------+--\n",
      "G | GTT V   | GCT A   | GAT D   | GGT G   | T\n",
      "G | GTC V   | GCC A   | GAC D   | GGC G   | C\n",
      "G | GTA V   | GCA A   | GAA E   | GGA G   | A\n",
      "G | GTG V   | GCG A   | GAG E   | GGG G   | G\n",
      "--+---------+---------+---------+---------+--\n",
      "Table 2 Vertebrate Mitochondrial, SGC1\n",
      "\n",
      "  |  T      |  C      |  A      |  G      |\n",
      "--+---------+---------+---------+---------+--\n",
      "T | TTT F   | TCT S   | TAT Y   | TGT C   | T\n",
      "T | TTC F   | TCC S   | TAC Y   | TGC C   | C\n",
      "T | TTA L   | TCA S   | TAA Stop| TGA W   | A\n",
      "T | TTG L   | TCG S   | TAG Stop| TGG W   | G\n",
      "--+---------+---------+---------+---------+--\n",
      "C | CTT L   | CCT P   | CAT H   | CGT R   | T\n",
      "C | CTC L   | CCC P   | CAC H   | CGC R   | C\n",
      "C | CTA L   | CCA P   | CAA Q   | CGA R   | A\n",
      "C | CTG L   | CCG P   | CAG Q   | CGG R   | G\n",
      "--+---------+---------+---------+---------+--\n",
      "A | ATT I(s)| ACT T   | AAT N   | AGT S   | T\n",
      "A | ATC I(s)| ACC T   | AAC N   | AGC S   | C\n",
      "A | ATA M(s)| ACA T   | AAA K   | AGA Stop| A\n",
      "A | ATG M(s)| ACG T   | AAG K   | AGG Stop| G\n",
      "--+---------+---------+---------+---------+--\n",
      "G | GTT V   | GCT A   | GAT D   | GGT G   | T\n",
      "G | GTC V   | GCC A   | GAC D   | GGC G   | C\n",
      "G | GTA V   | GCA A   | GAA E   | GGA G   | A\n",
      "G | GTG V(s)| GCG A   | GAG E   | GGG G   | G\n",
      "--+---------+---------+---------+---------+--\n",
      "Stop codons:  ['TAA', 'TAG', 'TGA']\n",
      "Start codons:  ['TTG', 'CTG', 'ATG']\n"
     ]
    }
   ],
   "source": [
    "# Translation table\n",
    "\n",
    "from Bio.Data import CodonTable\n",
    "\n",
    "standard_table = CodonTable.unambiguous_dna_by_name[\"Standard\"]\n",
    "# standard_table = CodonTable.unambiguous_dna_by_id[1]\n",
    "\n",
    "# Vertebrate Mitochondrial: ty thể của động vật có xương sống\n",
    "mito_table = CodonTable.unambiguous_dna_by_name[\"Vertebrate Mitochondrial\"]\n",
    "mito_table = CodonTable.unambiguous_dna_by_id[2]\n",
    "print(standard_table)\n",
    "print(mito_table)\n",
    "print(\"Stop codons: \", standard_table.stop_codons)\n",
    "print(\"Start codons: \", standard_table.start_codons)"
   ]
  },
  {
   "cell_type": "code",
   "execution_count": 18,
   "metadata": {},
   "outputs": [
    {
     "name": "stdout",
     "output_type": "stream",
     "text": [
      "protein_seq:  MAIVMGR*KGAR*\n",
      "MAIVMGR\n",
      "protein_seq:  MAIVMGR\n"
     ]
    }
   ],
   "source": [
    "# translation\n",
    "messenger_rna = Seq(\"AUGGCCAUUGUAAUGGGCCGCUGAAAGGGUGCCCGAUAG\")\n",
    "protein_seq = messenger_rna.translate()\n",
    "print(\"protein_seq: \", protein_seq)\n",
    "print(messenger_rna.translate(to_stop=True))\n",
    "\n",
    "# You can also translate directly from the coding strand DNA sequence:\n",
    "coding_dna = Seq(\"ATGGCCATTGTAATGGGCCGCTGAAAGGGTGCCCGATAG\")\n",
    "protein_seq = coding_dna.translate(to_stop=True)\n",
    "print(\"protein_seq: \", protein_seq)"
   ]
  },
  {
   "cell_type": "code",
   "execution_count": 19,
   "metadata": {},
   "outputs": [
    {
     "name": "stdout",
     "output_type": "stream",
     "text": [
      "True\n",
      "True\n"
     ]
    }
   ],
   "source": [
    "# Comparing Seq objects\n",
    "seq1 = Seq(\"ACGT\")\n",
    "print(\"ACGT\" == seq1)\n",
    "print(seq1 == \"ACGT\")"
   ]
  },
  {
   "cell_type": "code",
   "execution_count": 20,
   "metadata": {},
   "outputs": [
    {
     "ename": "TypeError",
     "evalue": "'Seq' object does not support item assignment",
     "output_type": "error",
     "traceback": [
      "\u001b[0;31m---------------------------------------------------------------------------\u001b[0m",
      "\u001b[0;31mTypeError\u001b[0m                                 Traceback (most recent call last)",
      "\u001b[1;32m/home/nguyen/bioinformatics/it4431_bioinformatics/biopython1.ipynb Cell 15\u001b[0m line \u001b[0;36m3\n\u001b[1;32m      <a href='vscode-notebook-cell://wsl%2Bubuntu/home/nguyen/bioinformatics/it4431_bioinformatics/biopython1.ipynb#X20sdnNjb2RlLXJlbW90ZQ%3D%3D?line=0'>1</a>\u001b[0m \u001b[39mfrom\u001b[39;00m \u001b[39mBio\u001b[39;00m\u001b[39m.\u001b[39;00m\u001b[39mSeq\u001b[39;00m \u001b[39mimport\u001b[39;00m Seq\n\u001b[1;32m      <a href='vscode-notebook-cell://wsl%2Bubuntu/home/nguyen/bioinformatics/it4431_bioinformatics/biopython1.ipynb#X20sdnNjb2RlLXJlbW90ZQ%3D%3D?line=1'>2</a>\u001b[0m my_seq \u001b[39m=\u001b[39m Seq(\u001b[39m\"\u001b[39m\u001b[39mGCCATTGTAATGGGCCGCTGAAAGGGTGCCCGA\u001b[39m\u001b[39m\"\u001b[39m)\n\u001b[0;32m----> <a href='vscode-notebook-cell://wsl%2Bubuntu/home/nguyen/bioinformatics/it4431_bioinformatics/biopython1.ipynb#X20sdnNjb2RlLXJlbW90ZQ%3D%3D?line=2'>3</a>\u001b[0m my_seq[\u001b[39m5\u001b[39;49m] \u001b[39m=\u001b[39m \u001b[39m\"\u001b[39m\u001b[39mG\u001b[39m\u001b[39m\"\u001b[39m\n",
      "\u001b[0;31mTypeError\u001b[0m: 'Seq' object does not support item assignment"
     ]
    }
   ],
   "source": [
    "from Bio.Seq import Seq\n",
    "my_seq = Seq(\"GCCATTGTAATGGGCCGCTGAAAGGGTGCCCGA\")\n",
    "my_seq[5] = \"G\""
   ]
  },
  {
   "cell_type": "code",
   "execution_count": 2,
   "metadata": {},
   "outputs": [
    {
     "name": "stdout",
     "output_type": "stream",
     "text": [
      "GCCATCGTAATGGGCCGCTGAAAGGGTGCCCGA\n",
      "GCCACGTAATGGGCCGCTGAAAGGGTGCCCGA\n",
      "AGCCCGTGGGAAAGTCGCCGGGTAATGCACCG\n"
     ]
    },
    {
     "data": {
      "text/plain": [
       "Seq('AGCCCGTGGGAAAGTCGCCGGGTAATGCACCG')"
      ]
     },
     "execution_count": 2,
     "metadata": {},
     "output_type": "execute_result"
    }
   ],
   "source": [
    "from Bio.Seq import MutableSeq, Seq\n",
    "\n",
    "mutable_seq = MutableSeq(\"GCCATTGTAATGGGCCGCTGAAAGGGTGCCCGA\")\n",
    "mutable_seq[5] = \"C\"\n",
    "print(mutable_seq)\n",
    "mutable_seq.remove(\"T\")\n",
    "print(mutable_seq)\n",
    "mutable_seq.reverse()\n",
    "print(mutable_seq)\n",
    "\n",
    "# get back to a read-only Seq object\n",
    "new_seq = Seq(mutable_seq)\n",
    "new_seq"
   ]
  },
  {
   "cell_type": "code",
   "execution_count": 4,
   "metadata": {},
   "outputs": [
    {
     "data": {
      "text/plain": [
       "Seq(None, length=20)"
      ]
     },
     "execution_count": 4,
     "metadata": {},
     "output_type": "execute_result"
    }
   ],
   "source": [
    "# unknown sequence contents\n",
    "from Bio.Seq import Seq\n",
    "\n",
    "unknown_seq = Seq(None, 20)\n",
    "unknown_seq"
   ]
  },
  {
   "cell_type": "markdown",
   "metadata": {},
   "source": [
    "# FGFR1"
   ]
  },
  {
   "cell_type": "code",
   "execution_count": 1,
   "metadata": {},
   "outputs": [],
   "source": [
    "from Bio.Seq import Seq\n",
    "from Bio import SeqIO"
   ]
  },
  {
   "cell_type": "code",
   "execution_count": 3,
   "metadata": {},
   "outputs": [
    {
     "name": "stdout",
     "output_type": "stream",
     "text": [
      "gene id: NC_000008.11:c38468635-38411143\n",
      "Seq('GCATAGCGCTCGGAGCGCTCTTGCGGCCACAGGCGCGGCGTCCTCGGCGGCGGG...TGA')\n",
      "57493 nucleotides\n",
      "Coding DNA length: 5418\n"
     ]
    }
   ],
   "source": [
    "for gene_record in SeqIO.parse(\"fgfr1_datasets/gene.fna\", \"fasta\"):\n",
    "    print(\"gene id:\", gene_record.id)\n",
    "    print(repr(gene_record.seq))\n",
    "    print(len(gene_record.seq), \"nucleotides\")\n",
    "\n",
    "    coding_dna = Seq(\"\")\n",
    "    exon_locations = [\n",
    "        1, 655,\n",
    "        11102, 11280,\n",
    "        40201, 40284,\n",
    "        40543, 40715,\n",
    "        42391, 42514,\n",
    "        43937, 44127,\n",
    "        46695, 46839,\n",
    "        48901, 49097,\n",
    "        50263, 50408,\n",
    "        50645, 50766,\n",
    "        51220, 51330,\n",
    "        52576, 52766,\n",
    "        53735, 53857,\n",
    "        54007, 54077,\n",
    "        54347, 54484,\n",
    "        54613, 54718,\n",
    "        54832, 57493,\n",
    "    ]\n",
    "    for i in range(0, len(exon_locations), 2):\n",
    "        coding_dna += gene_record.seq[exon_locations[i] - 1 : exon_locations[i + 1]]\n",
    "\n",
    "    print(\"Coding DNA length:\", len(coding_dna))\n",
    "    break"
   ]
  },
  {
   "cell_type": "code",
   "execution_count": 4,
   "metadata": {},
   "outputs": [
    {
     "name": "stdout",
     "output_type": "stream",
     "text": [
      "mRNA id: NM_001354368.2\n",
      "Seq('GCATAGCGCTCGGAGCGCTCTTGCGGCCACAGGCGCGGCGTCCTCGGCGGCGGG...TGA')\n",
      "mRNA length: 5418\n"
     ]
    }
   ],
   "source": [
    "for rna_record in SeqIO.parse(\"fgfr1_datasets/rna.fna\", \"fasta\"):\n",
    "    print(\"mRNA id:\", rna_record.id)\n",
    "    print(repr(rna_record.seq))\n",
    "    print(\"mRNA length:\", len(rna_record.seq))\n",
    "    mRNA = rna_record.seq\n",
    "    break"
   ]
  },
  {
   "cell_type": "code",
   "execution_count": 4,
   "metadata": {},
   "outputs": [
    {
     "name": "stdout",
     "output_type": "stream",
     "text": [
      "Exact mRNA: True\n"
     ]
    }
   ],
   "source": [
    "print('Exact mRNA:', coding_dna == mRNA)"
   ]
  },
  {
   "cell_type": "code",
   "execution_count": 31,
   "metadata": {},
   "outputs": [
    {
     "data": {
      "text/plain": [
       "2190"
      ]
     },
     "execution_count": 31,
     "metadata": {},
     "output_type": "execute_result"
    }
   ],
   "source": [
    "new_coding_dna = coding_dna[743:2933]\n",
    "len(new_coding_dna)"
   ]
  },
  {
   "cell_type": "code",
   "execution_count": 34,
   "metadata": {},
   "outputs": [
    {
     "data": {
      "text/plain": [
       "729"
      ]
     },
     "execution_count": 34,
     "metadata": {},
     "output_type": "execute_result"
    }
   ],
   "source": [
    "protein_seq = new_coding_dna.translate(to_stop=True)\n",
    "len(protein_seq)"
   ]
  },
  {
   "cell_type": "code",
   "execution_count": 35,
   "metadata": {},
   "outputs": [
    {
     "name": "stdout",
     "output_type": "stream",
     "text": [
      "protein id: NP_001341297.1\n",
      "Seq('MWSWKCLLFWAVLVTATLCTARPSPTLPEQDALPSSEDDDDDDDSSSEEKETDN...KRR')\n",
      "protein length: 729\n"
     ]
    }
   ],
   "source": [
    "for protein_record in SeqIO.parse(\"fgfr1_datasets/protein.faa\", \"fasta\"):\n",
    "    if protein_record.id == \"NP_001341297.1\":\n",
    "        print(\"protein id:\", protein_record.id)\n",
    "        print(repr(protein_record.seq))\n",
    "        print(\"protein length:\", len(protein_record.seq))\n",
    "        break\n",
    "    else:\n",
    "        continue"
   ]
  },
  {
   "cell_type": "code",
   "execution_count": 36,
   "metadata": {},
   "outputs": [
    {
     "name": "stdout",
     "output_type": "stream",
     "text": [
      "True\n"
     ]
    }
   ],
   "source": [
    "print(protein_seq == protein_record.seq)"
   ]
  },
  {
   "cell_type": "code",
   "execution_count": null,
   "metadata": {},
   "outputs": [],
   "source": []
  }
 ],
 "metadata": {
  "kernelspec": {
   "display_name": "Python 3",
   "language": "python",
   "name": "python3"
  },
  "language_info": {
   "codemirror_mode": {
    "name": "ipython",
    "version": 3
   },
   "file_extension": ".py",
   "mimetype": "text/x-python",
   "name": "python",
   "nbconvert_exporter": "python",
   "pygments_lexer": "ipython3",
   "version": "3.10.12"
  }
 },
 "nbformat": 4,
 "nbformat_minor": 2
}
