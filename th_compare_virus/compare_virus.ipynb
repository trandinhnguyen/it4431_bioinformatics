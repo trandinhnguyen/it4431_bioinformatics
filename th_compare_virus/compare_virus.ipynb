{
 "cells": [
  {
   "cell_type": "code",
   "execution_count": 1,
   "metadata": {},
   "outputs": [],
   "source": [
    "# Working with Sequences using fasta files\n",
    "from Bio import SeqIO\n",
    "from Bio.Seq import Seq\n",
    "\n",
    "covid = SeqIO.read(\"covid_sequences.fasta\", \"fasta\")\n",
    "mers = SeqIO.read(\"mers_sequence.fasta\", \"fasta\")\n",
    "sars = SeqIO.read(\"sars_sequence.fasta\", \"fasta\")\n",
    "ebola = SeqIO.read(\"ebola_sequence.fasta\", \"fasta\")"
   ]
  },
  {
   "cell_type": "code",
   "execution_count": 2,
   "metadata": {},
   "outputs": [
    {
     "name": "stdout",
     "output_type": "stream",
     "text": [
      "covid_seq :: 29903\n",
      "mers_seq :: 30119\n",
      "sars_seq :: 29751\n",
      "ebola_seq :: 18959\n"
     ]
    }
   ],
   "source": [
    "# Convert or Get the sequences\n",
    "covid_seq = covid.seq\n",
    "mers_seq = mers.seq\n",
    "sars_seq = sars.seq\n",
    "ebola_seq = ebola.seq\n",
    "# Check the length of each sequence\n",
    "print(\"covid_seq ::\", len(covid_seq))\n",
    "print(\"mers_seq ::\", len(mers_seq))\n",
    "print(\"sars_seq ::\", len(sars_seq))\n",
    "print(\"ebola_seq ::\", len(ebola_seq))"
   ]
  },
  {
   "cell_type": "code",
   "execution_count": 4,
   "metadata": {},
   "outputs": [
    {
     "name": "stdout",
     "output_type": "stream",
     "text": [
      "GC content of covid_seq :: 0.3797277865097147\n",
      "GC content of mers_seq :: 0.4123642883229855\n",
      "GC content of sars_seq :: 0.407616550704178\n",
      "GC content of ebola_seq :: 0.4107284139458832\n"
     ]
    }
   ],
   "source": [
    "from Bio.SeqUtils import gc_fraction\n",
    "\n",
    "# Check the length of each sequence\n",
    "print(\"GC content of covid_seq ::\", gc_fraction(covid_seq))\n",
    "print(\"GC content of mers_seq ::\", gc_fraction(mers_seq))\n",
    "print(\"GC content of sars_seq ::\", gc_fraction(sars_seq))\n",
    "print(\"GC content of ebola_seq ::\", gc_fraction(ebola_seq))"
   ]
  },
  {
   "cell_type": "code",
   "execution_count": 3,
   "metadata": {},
   "outputs": [],
   "source": [
    "def pad_seq(seq):\n",
    "    if len(seq) % 3 == 0:\n",
    "        return seq\n",
    "    elif len(seq) % 3 == 1:\n",
    "        return seq + Seq(\"NN\")\n",
    "    else:\n",
    "        return seq + Seq(\"N\")\n",
    "\n",
    "covid_seq = pad_seq(covid_seq)\n",
    "mers_seq = pad_seq(mers_seq)\n",
    "sars_seq = pad_seq(sars_seq)\n",
    "ebola_seq = pad_seq(ebola_seq)"
   ]
  },
  {
   "cell_type": "code",
   "execution_count": 4,
   "metadata": {},
   "outputs": [
    {
     "name": "stdout",
     "output_type": "stream",
     "text": [
      "covid_protein :: 9968\n",
      "mers_protein :: 10040\n",
      "sars_protein :: 9917\n",
      "ebola_protein :: 6320\n"
     ]
    }
   ],
   "source": [
    "covid_protein = covid_seq.translate()\n",
    "mers_protein = mers_seq.translate()\n",
    "sars_protein = sars_seq.translate()\n",
    "ebola_protein = ebola_seq.translate()\n",
    "print(\"covid_protein ::\", len(covid_protein))\n",
    "print(\"mers_protein ::\", len(mers_protein))\n",
    "print(\"sars_protein ::\", len(sars_protein))\n",
    "print(\"ebola_protein ::\", len(ebola_protein))"
   ]
  },
  {
   "cell_type": "code",
   "execution_count": 5,
   "metadata": {},
   "outputs": [],
   "source": [
    "def hamming_distance(lhs, rhs):\n",
    "    return len([(x, y) for x, y in zip(lhs, rhs) if x != y])"
   ]
  },
  {
   "cell_type": "code",
   "execution_count": 6,
   "metadata": {},
   "outputs": [],
   "source": [
    "from Bio.SeqUtils.ProtParam import ProteinAnalysis\n",
    "\n",
    "# Method 1\n",
    "covid_analysed = ProteinAnalysis(str(covid_protein))\n",
    "mers_analysed = ProteinAnalysis(str(mers_protein))\n",
    "sars_analysed = ProteinAnalysis(str(sars_protein))\n",
    "ebola_analysed = ProteinAnalysis(str(ebola_protein))\n",
    "# Check for the Frequence of AA\n",
    "covid_freq = covid_analysed.count_amino_acids()\n",
    "mers_freq = mers_analysed.count_amino_acids()\n",
    "sars_freq = sars_analysed.count_amino_acids()\n",
    "ebola_freq = ebola_analysed.count_amino_acids()"
   ]
  },
  {
   "cell_type": "code",
   "execution_count": 10,
   "metadata": {},
   "outputs": [
    {
     "data": {
      "text/plain": [
       "Counter({'L': 886,\n",
       "         'S': 810,\n",
       "         '*': 774,\n",
       "         'T': 679,\n",
       "         'C': 635,\n",
       "         'F': 593,\n",
       "         'R': 558,\n",
       "         'V': 548,\n",
       "         'Y': 505,\n",
       "         'N': 472,\n",
       "         'I': 436,\n",
       "         'K': 413,\n",
       "         'G': 394,\n",
       "         'A': 375,\n",
       "         'H': 332,\n",
       "         'Q': 325,\n",
       "         'P': 292,\n",
       "         'D': 290,\n",
       "         'E': 270,\n",
       "         'W': 263,\n",
       "         'M': 117,\n",
       "         'X': 1})"
      ]
     },
     "execution_count": 10,
     "metadata": {},
     "output_type": "execute_result"
    }
   ],
   "source": [
    "# Method 2\n",
    "# What the freq of Amino Acids\n",
    "from collections import Counter\n",
    "\n",
    "# Most common amino acid in Covid\n",
    "covid_freq = Counter(covid_protein)\n",
    "mers_freq = Counter(mers_protein)\n",
    "sars_freq = Counter(sars_protein)\n",
    "ebola_freq = Counter(ebola_protein)\n",
    "covid_freq"
   ]
  },
  {
   "cell_type": "code",
   "execution_count": 8,
   "metadata": {},
   "outputs": [],
   "source": [
    "import matplotlib.pyplot as plt"
   ]
  },
  {
   "cell_type": "code",
   "execution_count": null,
   "metadata": {},
   "outputs": [
    {
     "data": {
      "text/plain": [
       "[]"
      ]
     },
     "execution_count": 9,
     "metadata": {},
     "output_type": "execute_result"
    },
    {
     "name": "stderr",
     "output_type": "stream",
     "text": [
      "/home/nguyen/.local/lib/python3.10/site-packages/ipykernel/gui/gtk3embed.py:65: RuntimeWarning: coroutine 'Kernel.do_one_iteration' was never awaited\n",
      "  self.kernel.do_one_iteration()\n",
      "RuntimeWarning: Enable tracemalloc to get the object allocation traceback\n"
     ]
    }
   ],
   "source": [
    "plt.subplot(2, 2, 1)\n",
    "plt.bar(covid_freq.keys(), covid_freq.values())\n",
    "plt.show()"
   ]
  },
  {
   "cell_type": "code",
   "execution_count": null,
   "metadata": {},
   "outputs": [],
   "source": []
  }
 ],
 "metadata": {
  "kernelspec": {
   "display_name": "Python 3",
   "language": "python",
   "name": "python3"
  },
  "language_info": {
   "codemirror_mode": {
    "name": "ipython",
    "version": 3
   },
   "file_extension": ".py",
   "mimetype": "text/x-python",
   "name": "python",
   "nbconvert_exporter": "python",
   "pygments_lexer": "ipython3",
   "version": "3.10.12"
  }
 },
 "nbformat": 4,
 "nbformat_minor": 2
}
